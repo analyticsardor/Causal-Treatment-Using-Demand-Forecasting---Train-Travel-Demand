{
  "nbformat": 4,
  "nbformat_minor": 5,
  "metadata": {
    "colab": {
      "name": "GT_Econs_GW1_v10 (cancellations).ipynb",
      "provenance": [],
      "collapsed_sections": []
    },
    "kernelspec": {
      "display_name": "Python 3",
      "language": "python",
      "name": "python3"
    },
    "language_info": {
      "codemirror_mode": {
        "name": "ipython",
        "version": 3
      },
      "file_extension": ".py",
      "mimetype": "text/x-python",
      "name": "python",
      "nbconvert_exporter": "python",
      "pygments_lexer": "ipython3",
      "version": "3.8.5"
    }
  },
  "cells": [
    {
      "cell_type": "markdown",
      "metadata": {
        "id": "l8bXtIWncNBg"
      },
      "source": [
        "## SUPPORTING CODE\n",
        "\n",
        "[1. Import and clean data](#section1)<br/>\n",
        "[2. Create new features](#section2)<br/>\n",
        "[3. Explore revised dataframe](#section3)<br/>\n",
        "    - [3a) Correlation heatmap](#section3a)<br/>\n",
        "    - [3b) Analysis of post-purchase changes](#section3b)<br/>\n",
        "    - [3c) Outlier analysis and treatment](#section3c)<br/>\n",
        "[4. Final dataset for Regression](#section4)<br/>\n",
        "[5. Addressing Endogeneity in Demand Model](#section5)<br/>\n",
        "    -[5a) Structural Model OLS](#section5a)<br/>\n",
        "    -[5b) Reduced Form Model for Price](#section5b)<br/>\n",
        "    -[5c) 2SLS of Structural Model](#section5c)<br/>\n",
        "    -[5d) Hausman Test for endogeneity](#section5d)<br/>\n",
        "    -[5e) Sargan Test for overidentification](#section5e)<br/>\n",
        "[6. Final 2SLS Demand Model](#section6)<br/>"
      ],
      "id": "l8bXtIWncNBg"
    },
    {
      "cell_type": "markdown",
      "metadata": {
        "id": "3gJ6GsxycNBl"
      },
      "source": [
        "### 1. IMPORT AND CLEAN DATA <a id=\"section1\"></a>"
      ],
      "id": "3gJ6GsxycNBl"
    },
    {
      "cell_type": "code",
      "metadata": {
        "id": "NXNHHEc7cNBm"
      },
      "source": [
        "import pandas as pd\n",
        "import datetime as dt\n",
        "import numpy as np\n",
        "import seaborn as sns\n",
        "from matplotlib import pyplot as plt\n",
        "import statsmodels.api as sm\n",
        "from linearmodels.iv import IV2SLS\n",
        "from linearmodels.iv import compare\n",
        "from linearmodels.iv import results\n",
        "\n",
        "from scipy.stats import chi2\n",
        "\n",
        "\n",
        "df=pd.read_csv('Data-GP1.csv')\n",
        "\n",
        "# Clean headers\n",
        "\n",
        "df.columns=[x.strip().lower() for x in df.columns]\n",
        "df.rename(columns={'culmulative_sales':'cumulative_sales'},inplace=True)\n"
      ],
      "id": "NXNHHEc7cNBm",
      "execution_count": null,
      "outputs": []
    },
    {
      "cell_type": "markdown",
      "metadata": {
        "id": "Wp9TeBh4cNBn"
      },
      "source": [
        "### 2. CREATE NEW FEATURES <a id=\"section2\"></a>"
      ],
      "id": "Wp9TeBh4cNBn"
    },
    {
      "cell_type": "code",
      "metadata": {
        "id": "1KLxV22scNBo"
      },
      "source": [
        "# Clean date columns\n",
        "\n",
        "df.dept_date=pd.to_datetime(df['dept_date'])\n",
        "df.purchase_date=pd.to_datetime(df['purchase_date'])\n",
        "\n",
        "# Derive date features\n",
        "\n",
        "df['dept_daynum']=(df.dept_date).dt.weekday+1\n",
        "df['buy_lead_time']=df['dept_date']-df['purchase_date']\n",
        "df['buy_lead_time']=df['buy_lead_time'].astype('timedelta64[D]')\n",
        "df['dept_monthnum']=(df.dept_date).dt.month\n"
      ],
      "id": "1KLxV22scNBo",
      "execution_count": null,
      "outputs": []
    },
    {
      "cell_type": "code",
      "metadata": {
        "id": "kjyKbH0icNBo",
        "colab": {
          "base_uri": "https://localhost:8080/"
        },
        "outputId": "2c84dac7-a6fd-4e80-beda-845618bd4608"
      },
      "source": [
        "# Roughly check train utilization\n",
        "\n",
        "train_count= df['train_number_all'].value_counts()\n",
        "print('Train Utilization (in total bookings/n)')\n",
        "\n",
        "# Check train operations/period and plot against df\n",
        "\n",
        "train= df.groupby(by=['dept_date'])['train_number_all'].nunique().reset_index()\n",
        "df=pd.merge(df,train,on='dept_date',how='inner')\n",
        "df=df.rename(columns={'train_number_all_x':'train','train_number_all_y':'train_capacity'})\n",
        "\n",
        "# Exclude O train data\n",
        "\n",
        "filt=(df['train']!='O')\n",
        "df=df[filt]\n"
      ],
      "id": "kjyKbH0icNBo",
      "execution_count": null,
      "outputs": [
        {
          "output_type": "stream",
          "name": "stdout",
          "text": [
            "Train Utilization (in total bookings/n)\n"
          ]
        }
      ]
    },
    {
      "cell_type": "code",
      "metadata": {
        "id": "R0IS90oIcNBq",
        "colab": {
          "base_uri": "https://localhost:8080/",
          "height": 313
        },
        "outputId": "5ad204f8-4900-46b7-9029-532f94e2b89b"
      },
      "source": [
        "# Resort dataset s.t. grouped by train, dept_date, customer type, cabin booked and gap from purchase to travel\n",
        "\n",
        "df=df.sort_values(by=['train','dept_date','customer_cat','isnormcabin','buy_lead_time'],\n",
        "                 ascending=[True,True,True,True,False])\n",
        "df.head()\n"
      ],
      "id": "R0IS90oIcNBq",
      "execution_count": null,
      "outputs": [
        {
          "output_type": "execute_result",
          "data": {
            "text/html": [
              "<div>\n",
              "<style scoped>\n",
              "    .dataframe tbody tr th:only-of-type {\n",
              "        vertical-align: middle;\n",
              "    }\n",
              "\n",
              "    .dataframe tbody tr th {\n",
              "        vertical-align: top;\n",
              "    }\n",
              "\n",
              "    .dataframe thead th {\n",
              "        text-align: right;\n",
              "    }\n",
              "</style>\n",
              "<table border=\"1\" class=\"dataframe\">\n",
              "  <thead>\n",
              "    <tr style=\"text-align: right;\">\n",
              "      <th></th>\n",
              "      <th>num_seats_total</th>\n",
              "      <th>mean_net_ticket_price</th>\n",
              "      <th>dept_date</th>\n",
              "      <th>purchase_date</th>\n",
              "      <th>train</th>\n",
              "      <th>cumulative_sales</th>\n",
              "      <th>isnormcabin</th>\n",
              "      <th>isreturn</th>\n",
              "      <th>isoneway</th>\n",
              "      <th>customer_cat</th>\n",
              "      <th>dept_daynum</th>\n",
              "      <th>buy_lead_time</th>\n",
              "      <th>dept_monthnum</th>\n",
              "      <th>train_capacity</th>\n",
              "    </tr>\n",
              "  </thead>\n",
              "  <tbody>\n",
              "    <tr>\n",
              "      <th>202522</th>\n",
              "      <td>1</td>\n",
              "      <td>418.084961</td>\n",
              "      <td>2018-06-01</td>\n",
              "      <td>2018-06-01</td>\n",
              "      <td>A</td>\n",
              "      <td>1</td>\n",
              "      <td>0</td>\n",
              "      <td>0</td>\n",
              "      <td>0</td>\n",
              "      <td>A</td>\n",
              "      <td>5</td>\n",
              "      <td>0.0</td>\n",
              "      <td>6</td>\n",
              "      <td>6</td>\n",
              "    </tr>\n",
              "    <tr>\n",
              "      <th>202514</th>\n",
              "      <td>1</td>\n",
              "      <td>464.041601</td>\n",
              "      <td>2018-06-02</td>\n",
              "      <td>2018-06-01</td>\n",
              "      <td>A</td>\n",
              "      <td>1</td>\n",
              "      <td>0</td>\n",
              "      <td>0</td>\n",
              "      <td>0</td>\n",
              "      <td>B</td>\n",
              "      <td>6</td>\n",
              "      <td>1.0</td>\n",
              "      <td>6</td>\n",
              "      <td>9</td>\n",
              "    </tr>\n",
              "    <tr>\n",
              "      <th>202492</th>\n",
              "      <td>4</td>\n",
              "      <td>561.181241</td>\n",
              "      <td>2018-06-03</td>\n",
              "      <td>2018-06-01</td>\n",
              "      <td>A</td>\n",
              "      <td>4</td>\n",
              "      <td>0</td>\n",
              "      <td>0</td>\n",
              "      <td>0</td>\n",
              "      <td>A</td>\n",
              "      <td>7</td>\n",
              "      <td>2.0</td>\n",
              "      <td>6</td>\n",
              "      <td>11</td>\n",
              "    </tr>\n",
              "    <tr>\n",
              "      <th>202495</th>\n",
              "      <td>1</td>\n",
              "      <td>633.715657</td>\n",
              "      <td>2018-06-03</td>\n",
              "      <td>2018-06-02</td>\n",
              "      <td>A</td>\n",
              "      <td>5</td>\n",
              "      <td>0</td>\n",
              "      <td>0</td>\n",
              "      <td>0</td>\n",
              "      <td>A</td>\n",
              "      <td>7</td>\n",
              "      <td>1.0</td>\n",
              "      <td>6</td>\n",
              "      <td>11</td>\n",
              "    </tr>\n",
              "    <tr>\n",
              "      <th>202505</th>\n",
              "      <td>2</td>\n",
              "      <td>763.550821</td>\n",
              "      <td>2018-06-03</td>\n",
              "      <td>2018-06-03</td>\n",
              "      <td>A</td>\n",
              "      <td>2</td>\n",
              "      <td>0</td>\n",
              "      <td>0</td>\n",
              "      <td>1</td>\n",
              "      <td>B</td>\n",
              "      <td>7</td>\n",
              "      <td>0.0</td>\n",
              "      <td>6</td>\n",
              "      <td>11</td>\n",
              "    </tr>\n",
              "  </tbody>\n",
              "</table>\n",
              "</div>"
            ],
            "text/plain": [
              "        num_seats_total  mean_net_ticket_price  ... dept_monthnum train_capacity\n",
              "202522                1             418.084961  ...             6              6\n",
              "202514                1             464.041601  ...             6              9\n",
              "202492                4             561.181241  ...             6             11\n",
              "202495                1             633.715657  ...             6             11\n",
              "202505                2             763.550821  ...             6             11\n",
              "\n",
              "[5 rows x 14 columns]"
            ]
          },
          "metadata": {},
          "execution_count": 4
        }
      ]
    },
    {
      "cell_type": "markdown",
      "metadata": {
        "id": "aEcY0fHVcNBr"
      },
      "source": [
        "### 3. EXPLORE DATASET <a id=\"section3\"></a>"
      ],
      "id": "aEcY0fHVcNBr"
    },
    {
      "cell_type": "markdown",
      "metadata": {
        "id": "_TkPCHKMcNBr"
      },
      "source": [
        "#### 3A. Correlation Heatmap <a id=\"section3a\"></a>"
      ],
      "id": "_TkPCHKMcNBr"
    },
    {
      "cell_type": "code",
      "metadata": {
        "id": "IBIpYOv5cNBr",
        "scrolled": false,
        "colab": {
          "base_uri": "https://localhost:8080/",
          "height": 520
        },
        "outputId": "ac1ec63f-f515-4856-d59b-a90c9bcf2261"
      },
      "source": [
        "plt.figure(figsize=(10, 6))\n",
        "heatmap=sns.heatmap(df.corr(),annot=True)\n",
        "heatmap.set_title('Correlation Heatmap', fontdict={'fontsize':18}, pad=30)\n",
        "plt.show()\n"
      ],
      "id": "IBIpYOv5cNBr",
      "execution_count": null,
      "outputs": [
        {
          "output_type": "display_data",
          "data": {
            "image/png": "[encoded data removed]",
            "text/plain": [
              "<Figure size 720x432 with 2 Axes>"
            ]
          },
          "metadata": {
            "needs_background": "light"
          }
        }
      ]
    },
    {
      "cell_type": "code",
      "metadata": {
        "id": "g2Knm_YJLPiW",
        "colab": {
          "base_uri": "https://localhost:8080/",
          "height": 903
        },
        "outputId": "17ae5c03-7ea7-438d-ef4a-8467ae422ceb"
      },
      "source": [
        "# Plotting a comparative pairplot of the relevant features\n",
        "import seaborn as sns\n",
        "sns.pairplot(df[[\"num_seats_total\", \"mean_net_ticket_price\", \"train\", \"cumulative_sales\", \n",
        "                 \"isnormcabin\", \"isoneway\", \"customer_cat\"]], markers = ['o'], height = 2.5)\n",
        "plt.show()"
      ],
      "id": "g2Knm_YJLPiW",
      "execution_count": null,
      "outputs": [
        {
          "output_type": "display_data",
          "data": {
            "image/png": "[encoded data removed]",
            "text/plain": [
              "<Figure size 900x900 with 30 Axes>"
            ]
          },
          "metadata": {
            "needs_background": "light"
          }
        }
      ]
    },
    {
      "cell_type": "code",
      "metadata": {
        "id": "b748YOdgcNBs",
        "colab": {
          "base_uri": "https://localhost:8080/"
        },
        "outputId": "14f803cc-8933-4fe2-d8b0-efad48326caa"
      },
      "source": [
        "cat_cols=['train', 'isnormcabin', 'isreturn','isoneway', 'customer_cat', 'dept_daynum']\n",
        "for i in cat_cols:\n",
        "    print('{} Table'.format(i.upper()))\n",
        "    print(df[i].value_counts(),'\\n')"
      ],
      "id": "b748YOdgcNBs",
      "execution_count": null,
      "outputs": [
        {
          "output_type": "stream",
          "name": "stdout",
          "text": [
            "TRAIN Table\n",
            "B    26855\n",
            "E    26297\n",
            "G    23030\n",
            "H    19306\n",
            "F    18557\n",
            "I    17836\n",
            "C    14612\n",
            "D    13235\n",
            "J    13016\n",
            "A    12019\n",
            "M     9583\n",
            "K     6904\n",
            "L     6010\n",
            "N     2436\n",
            "Name: train, dtype: int64 \n",
            "\n",
            "ISNORMCABIN Table\n",
            "1    125451\n",
            "0     84245\n",
            "Name: isnormcabin, dtype: int64 \n",
            "\n",
            "ISRETURN Table\n",
            "0    109004\n",
            "1    100692\n",
            "Name: isreturn, dtype: int64 \n",
            "\n",
            "ISONEWAY Table\n",
            "0    183930\n",
            "1     25766\n",
            "Name: isoneway, dtype: int64 \n",
            "\n",
            "CUSTOMER_CAT Table\n",
            "B    162403\n",
            "A     47293\n",
            "Name: customer_cat, dtype: int64 \n",
            "\n",
            "DEPT_DAYNUM Table\n",
            "5    32380\n",
            "7    31513\n",
            "4    30504\n",
            "3    30409\n",
            "1    28937\n",
            "2    28887\n",
            "6    27066\n",
            "Name: dept_daynum, dtype: int64 \n",
            "\n"
          ]
        }
      ]
    },
    {
      "cell_type": "markdown",
      "metadata": {
        "id": "XY5N7yj2OqZj"
      },
      "source": [
        "#### 3B. Analysis of Post-Purchase Changes <a id=\"section3b\"></a>"
      ],
      "id": "XY5N7yj2OqZj"
    },
    {
      "cell_type": "code",
      "metadata": {
        "colab": {
          "base_uri": "https://localhost:8080/",
          "height": 506
        },
        "id": "WodzsEGkOqZl",
        "outputId": "d6338300-ed97-468e-ec96-e12e3efff4cd"
      },
      "source": [
        "# Find the gross sales before cancellations/changes\n",
        "\n",
        "df_gross_seats = df.groupby(['dept_date','train','isnormcabin', 'isreturn','isoneway', \n",
        "                     'customer_cat'])['num_seats_total'].sum().reset_index().rename(columns={'num_seats_total':\n",
        "                                                                                             'gross_seats_sold'})\n",
        "\n",
        "# Find the last date where a ticket was purchased for that combination\n",
        "\n",
        "df_max_date = df.groupby(['dept_date', 'train', 'isnormcabin', 'isreturn','isoneway', \n",
        "                     'customer_cat'])['purchase_date'].max().reset_index().rename(columns={'purchase_date':\n",
        "                                                                                           'last_purchase_date'})\n",
        "\n",
        "# Merge everything back into a consolidated df_change\n",
        "\n",
        "df_change = pd.merge(df, df_gross_seats, on = ['dept_date', 'train', 'isnormcabin', 'isreturn',\n",
        "                                                 'isoneway', 'customer_cat'])\n",
        "\n",
        "df_change = pd.merge(df_change, df_max_date, on = ['dept_date', 'train', 'isnormcabin', 'isreturn',\n",
        "                                                 'isoneway', 'customer_cat'])\n",
        "\n",
        "# Calculate the changes taking culmulative_sales - recalculated running total of seats sold (gross_seats_sold)\n",
        "\n",
        "df_change.loc[df_change['last_purchase_date'] == df_change['purchase_date'],\n",
        "              'increase/(decrease)'] = df_change['cumulative_sales']- df_change['gross_seats_sold']\n",
        "\n",
        "df_change['increase/(decrease)'] = df_change['increase/(decrease)'].replace(np.nan, 0)\n",
        "\n",
        "# Aggregate changes to a higher level by train (train_chg)\n",
        "\n",
        "train_chg = df_change.groupby(['train'])['num_seats_total',\n",
        "                                         'increase/(decrease)'].sum().reset_index().rename(columns={'num_seats_total':\n",
        "                                                                                                    'gross_seats_sold'})\n",
        "\n",
        "train_chg['increase/(decrease)%'] = round((train_chg['increase/(decrease)']/\n",
        "                                           train_chg['gross_seats_sold'])*100,1).astype(str) + '%'\n",
        "\n",
        "train_chg"
      ],
      "id": "WodzsEGkOqZl",
      "execution_count": null,
      "outputs": [
        {
          "output_type": "stream",
          "name": "stderr",
          "text": [
            "/usr/local/lib/python3.7/dist-packages/ipykernel_launcher.py:30: FutureWarning: Indexing with multiple keys (implicitly converted to a tuple of keys) will be deprecated, use a list instead.\n"
          ]
        },
        {
          "output_type": "execute_result",
          "data": {
            "text/html": [
              "<div>\n",
              "<style scoped>\n",
              "    .dataframe tbody tr th:only-of-type {\n",
              "        vertical-align: middle;\n",
              "    }\n",
              "\n",
              "    .dataframe tbody tr th {\n",
              "        vertical-align: top;\n",
              "    }\n",
              "\n",
              "    .dataframe thead th {\n",
              "        text-align: right;\n",
              "    }\n",
              "</style>\n",
              "<table border=\"1\" class=\"dataframe\">\n",
              "  <thead>\n",
              "    <tr style=\"text-align: right;\">\n",
              "      <th></th>\n",
              "      <th>train</th>\n",
              "      <th>gross_seats_sold</th>\n",
              "      <th>increase/(decrease)</th>\n",
              "      <th>increase/(decrease)%</th>\n",
              "    </tr>\n",
              "  </thead>\n",
              "  <tbody>\n",
              "    <tr>\n",
              "      <th>0</th>\n",
              "      <td>A</td>\n",
              "      <td>24709</td>\n",
              "      <td>-1484.0</td>\n",
              "      <td>-6.0%</td>\n",
              "    </tr>\n",
              "    <tr>\n",
              "      <th>1</th>\n",
              "      <td>B</td>\n",
              "      <td>74539</td>\n",
              "      <td>7826.0</td>\n",
              "      <td>10.5%</td>\n",
              "    </tr>\n",
              "    <tr>\n",
              "      <th>2</th>\n",
              "      <td>C</td>\n",
              "      <td>30229</td>\n",
              "      <td>3237.0</td>\n",
              "      <td>10.7%</td>\n",
              "    </tr>\n",
              "    <tr>\n",
              "      <th>3</th>\n",
              "      <td>D</td>\n",
              "      <td>28363</td>\n",
              "      <td>-1752.0</td>\n",
              "      <td>-6.2%</td>\n",
              "    </tr>\n",
              "    <tr>\n",
              "      <th>4</th>\n",
              "      <td>E</td>\n",
              "      <td>73723</td>\n",
              "      <td>2553.0</td>\n",
              "      <td>3.5%</td>\n",
              "    </tr>\n",
              "    <tr>\n",
              "      <th>5</th>\n",
              "      <td>F</td>\n",
              "      <td>46310</td>\n",
              "      <td>536.0</td>\n",
              "      <td>1.2%</td>\n",
              "    </tr>\n",
              "    <tr>\n",
              "      <th>6</th>\n",
              "      <td>G</td>\n",
              "      <td>59059</td>\n",
              "      <td>6970.0</td>\n",
              "      <td>11.8%</td>\n",
              "    </tr>\n",
              "    <tr>\n",
              "      <th>7</th>\n",
              "      <td>H</td>\n",
              "      <td>50366</td>\n",
              "      <td>614.0</td>\n",
              "      <td>1.2%</td>\n",
              "    </tr>\n",
              "    <tr>\n",
              "      <th>8</th>\n",
              "      <td>I</td>\n",
              "      <td>41057</td>\n",
              "      <td>-582.0</td>\n",
              "      <td>-1.4%</td>\n",
              "    </tr>\n",
              "    <tr>\n",
              "      <th>9</th>\n",
              "      <td>J</td>\n",
              "      <td>27484</td>\n",
              "      <td>-2777.0</td>\n",
              "      <td>-10.1%</td>\n",
              "    </tr>\n",
              "    <tr>\n",
              "      <th>10</th>\n",
              "      <td>K</td>\n",
              "      <td>12854</td>\n",
              "      <td>-996.0</td>\n",
              "      <td>-7.7%</td>\n",
              "    </tr>\n",
              "    <tr>\n",
              "      <th>11</th>\n",
              "      <td>L</td>\n",
              "      <td>10102</td>\n",
              "      <td>-1493.0</td>\n",
              "      <td>-14.8%</td>\n",
              "    </tr>\n",
              "    <tr>\n",
              "      <th>12</th>\n",
              "      <td>M</td>\n",
              "      <td>17787</td>\n",
              "      <td>-695.0</td>\n",
              "      <td>-3.9%</td>\n",
              "    </tr>\n",
              "    <tr>\n",
              "      <th>13</th>\n",
              "      <td>N</td>\n",
              "      <td>3129</td>\n",
              "      <td>-182.0</td>\n",
              "      <td>-5.8%</td>\n",
              "    </tr>\n",
              "  </tbody>\n",
              "</table>\n",
              "</div>"
            ],
            "text/plain": [
              "   train  gross_seats_sold  increase/(decrease) increase/(decrease)%\n",
              "0      A             24709              -1484.0                -6.0%\n",
              "1      B             74539               7826.0                10.5%\n",
              "2      C             30229               3237.0                10.7%\n",
              "3      D             28363              -1752.0                -6.2%\n",
              "4      E             73723               2553.0                 3.5%\n",
              "5      F             46310                536.0                 1.2%\n",
              "6      G             59059               6970.0                11.8%\n",
              "7      H             50366                614.0                 1.2%\n",
              "8      I             41057               -582.0                -1.4%\n",
              "9      J             27484              -2777.0               -10.1%\n",
              "10     K             12854               -996.0                -7.7%\n",
              "11     L             10102              -1493.0               -14.8%\n",
              "12     M             17787               -695.0                -3.9%\n",
              "13     N              3129               -182.0                -5.8%"
            ]
          },
          "metadata": {},
          "execution_count": 8
        }
      ]
    },
    {
      "cell_type": "markdown",
      "metadata": {
        "id": "vowLS7STcNBs"
      },
      "source": [
        "#### 3C. OUTLIER ANALYSIS AND TREATMENT <a id=\"section3c\"></a>"
      ],
      "id": "vowLS7STcNBs"
    },
    {
      "cell_type": "code",
      "metadata": {
        "id": "HjHdgqn1cNBt",
        "scrolled": true,
        "colab": {
          "base_uri": "https://localhost:8080/",
          "height": 1000
        },
        "outputId": "00f72a39-7fbc-4a84-b6ed-69c21a24e598"
      },
      "source": [
        "cols=['num_seats_total', 'mean_net_ticket_price', 'cumulative_sales', 'buy_lead_time']\n",
        "for i in cols:\n",
        "    sns.boxplot(x=df[i])\n",
        "    plt.show()"
      ],
      "id": "HjHdgqn1cNBt",
      "execution_count": null,
      "outputs": [
        {
          "output_type": "display_data",
          "data": {
            "image/png": "[encoded data removed]",
            "text/plain": [
              "<Figure size 432x288 with 1 Axes>"
            ]
          },
          "metadata": {
            "needs_background": "light"
          }
        },
        {
          "output_type": "display_data",
          "data": {
            "image/png": "[encoded data removed]",
            "text/plain": [
              "<Figure size 432x288 with 1 Axes>"
            ]
          },
          "metadata": {
            "needs_background": "light"
          }
        },
        {
          "output_type": "display_data",
          "data": {
            "image/png": "[encoded data removed]",
            "text/plain": [
              "<Figure size 432x288 with 1 Axes>"
            ]
          },
          "metadata": {
            "needs_background": "light"
          }
        },
        {
          "output_type": "display_data",
          "data": {
            "image/png": "[encoded data removed]",
            "text/plain": [
              "<Figure size 432x288 with 1 Axes>"
            ]
          },
          "metadata": {
            "needs_background": "light"
          }
        }
      ]
    },
    {
      "cell_type": "code",
      "metadata": {
        "id": "Bd0YWnQmJHjp",
        "scrolled": false,
        "colab": {
          "base_uri": "https://localhost:8080/",
          "height": 206
        },
        "outputId": "f725356f-ce64-41ce-d564-39a0ff359795"
      },
      "source": [
        "#  Outlier capping \n",
        "\n",
        "cols=['num_seats_total', 'mean_net_ticket_price', 'cumulative_sales','buy_lead_time']\n",
        "stats=df[cols].describe()\n",
        "\n",
        "# Integrate caps to stats table\n",
        "\n",
        "l_p95=[]\n",
        "l_p10=[]\n",
        "up_capped=[]\n",
        "low_capped=[]\n",
        "\n",
        "\n",
        "for i in stats.columns:\n",
        "    l_p95.append(np.percentile(df[i],95))\n",
        "    l_p10.append(np.percentile(df[i],10))\n",
        "\n",
        "capping=pd.DataFrame(list(zip(cols,l_p10,l_p95)))\n",
        "capping.columns=['index','lower_cap','upper_cap']\n",
        "\n",
        "stats=stats.transpose().reset_index()\n",
        "stats=pd.merge(stats,capping,on='index',how='inner')          \n",
        "\n",
        "for i in stats.index:\n",
        "    \n",
        "    col_name=stats.iloc[i,0]\n",
        "    col_ucap=stats.iloc[i,10]\n",
        "    col_lcap=stats.iloc[i,9]\n",
        "    \n",
        "    originals=df[col_name].values\n",
        "    \n",
        "    ucap_ctr= np.count_nonzero(originals > col_ucap)\n",
        "    up_capped.append(ucap_ctr)\n",
        "   \n",
        "    lcap_ctr=np.count_nonzero(originals < col_lcap)\n",
        "    low_capped.append(lcap_ctr)\n",
        "    \n",
        "cap_ctrs=pd.DataFrame(list(zip(cols,low_capped,up_capped)))\n",
        "cap_ctrs.columns=['index','< lower_cap','> upper_cap']\n",
        "stats=pd.merge(stats,cap_ctrs,on='index',how='inner')   \n",
        "stats.set_index('index',inplace=True)\n",
        "stats"
      ],
      "id": "Bd0YWnQmJHjp",
      "execution_count": null,
      "outputs": [
        {
          "output_type": "execute_result",
          "data": {
            "text/html": [
              "<div>\n",
              "<style scoped>\n",
              "    .dataframe tbody tr th:only-of-type {\n",
              "        vertical-align: middle;\n",
              "    }\n",
              "\n",
              "    .dataframe tbody tr th {\n",
              "        vertical-align: top;\n",
              "    }\n",
              "\n",
              "    .dataframe thead th {\n",
              "        text-align: right;\n",
              "    }\n",
              "</style>\n",
              "<table border=\"1\" class=\"dataframe\">\n",
              "  <thead>\n",
              "    <tr style=\"text-align: right;\">\n",
              "      <th></th>\n",
              "      <th>count</th>\n",
              "      <th>mean</th>\n",
              "      <th>std</th>\n",
              "      <th>min</th>\n",
              "      <th>25%</th>\n",
              "      <th>50%</th>\n",
              "      <th>75%</th>\n",
              "      <th>max</th>\n",
              "      <th>lower_cap</th>\n",
              "      <th>upper_cap</th>\n",
              "      <th>&lt; lower_cap</th>\n",
              "      <th>&gt; upper_cap</th>\n",
              "    </tr>\n",
              "    <tr>\n",
              "      <th>index</th>\n",
              "      <th></th>\n",
              "      <th></th>\n",
              "      <th></th>\n",
              "      <th></th>\n",
              "      <th></th>\n",
              "      <th></th>\n",
              "      <th></th>\n",
              "      <th></th>\n",
              "      <th></th>\n",
              "      <th></th>\n",
              "      <th></th>\n",
              "      <th></th>\n",
              "    </tr>\n",
              "  </thead>\n",
              "  <tbody>\n",
              "    <tr>\n",
              "      <th>num_seats_total</th>\n",
              "      <td>209696.0</td>\n",
              "      <td>2.383026</td>\n",
              "      <td>2.083327</td>\n",
              "      <td>1.000000</td>\n",
              "      <td>1.00000</td>\n",
              "      <td>2.000000</td>\n",
              "      <td>3.000000</td>\n",
              "      <td>66.000000</td>\n",
              "      <td>1.000000</td>\n",
              "      <td>6.000000</td>\n",
              "      <td>0</td>\n",
              "      <td>9515</td>\n",
              "    </tr>\n",
              "    <tr>\n",
              "      <th>mean_net_ticket_price</th>\n",
              "      <td>209696.0</td>\n",
              "      <td>230.114889</td>\n",
              "      <td>147.022252</td>\n",
              "      <td>1.278969</td>\n",
              "      <td>108.87012</td>\n",
              "      <td>186.282006</td>\n",
              "      <td>350.409244</td>\n",
              "      <td>7855.766106</td>\n",
              "      <td>90.750644</td>\n",
              "      <td>513.468378</td>\n",
              "      <td>20970</td>\n",
              "      <td>10485</td>\n",
              "    </tr>\n",
              "    <tr>\n",
              "      <th>cumulative_sales</th>\n",
              "      <td>209696.0</td>\n",
              "      <td>15.875134</td>\n",
              "      <td>19.795698</td>\n",
              "      <td>1.000000</td>\n",
              "      <td>3.00000</td>\n",
              "      <td>8.000000</td>\n",
              "      <td>21.000000</td>\n",
              "      <td>187.000000</td>\n",
              "      <td>1.000000</td>\n",
              "      <td>58.000000</td>\n",
              "      <td>0</td>\n",
              "      <td>10290</td>\n",
              "    </tr>\n",
              "    <tr>\n",
              "      <th>buy_lead_time</th>\n",
              "      <td>209696.0</td>\n",
              "      <td>63.264860</td>\n",
              "      <td>65.050802</td>\n",
              "      <td>0.000000</td>\n",
              "      <td>15.00000</td>\n",
              "      <td>39.000000</td>\n",
              "      <td>91.000000</td>\n",
              "      <td>364.000000</td>\n",
              "      <td>6.000000</td>\n",
              "      <td>201.000000</td>\n",
              "      <td>19538</td>\n",
              "      <td>10351</td>\n",
              "    </tr>\n",
              "  </tbody>\n",
              "</table>\n",
              "</div>"
            ],
            "text/plain": [
              "                          count        mean  ...  < lower_cap  > upper_cap\n",
              "index                                        ...                          \n",
              "num_seats_total        209696.0    2.383026  ...            0         9515\n",
              "mean_net_ticket_price  209696.0  230.114889  ...        20970        10485\n",
              "cumulative_sales       209696.0   15.875134  ...            0        10290\n",
              "buy_lead_time          209696.0   63.264860  ...        19538        10351\n",
              "\n",
              "[4 rows x 12 columns]"
            ]
          },
          "metadata": {},
          "execution_count": 10
        }
      ]
    },
    {
      "cell_type": "code",
      "metadata": {
        "id": "TWHpWkmeJHjq",
        "colab": {
          "base_uri": "https://localhost:8080/",
          "height": 313
        },
        "outputId": "8eb2f09d-fab6-4b6e-97be-f8127501a82b"
      },
      "source": [
        "# Create copy and show capped features\n",
        "\n",
        "x=df.copy()\n",
        "\n",
        "seats_lcap=stats.iloc[0,8]\n",
        "seats_upcap=stats.iloc[0,9]\n",
        "\n",
        "price_lcap=stats.iloc[1,8]\n",
        "price_upcap=stats.iloc[1,9]\n",
        "\n",
        "cum_lcap=stats.iloc[2,8]\n",
        "cum_upcap=stats.iloc[2,9]\n",
        "\n",
        "lead_lcap=stats.iloc[3,8]\n",
        "lead_upcap=stats.iloc[3,9]\n",
        "\n",
        "x['c_price']=[price_upcap if i>price_upcap else i for i in df['mean_net_ticket_price']]\n",
        "x['c_seats']=[seats_upcap if i>seats_upcap else i for i in df['num_seats_total']]\n",
        "x['c_cum']=[cum_upcap if i>cum_upcap else i for i in df['cumulative_sales']]\n",
        "x['c_lead']=[lead_upcap if i>lead_upcap else i for i in df['buy_lead_time']]\n",
        "\n",
        "x['c_seats'].where(x['c_seats'] <= seats_lcap, seats_lcap)  \n",
        "x['c_price'].where(x['c_price'] <= price_lcap, price_lcap)  \n",
        "x['c_cum'].where(x['c_cum'] <= cum_lcap, cum_lcap)  \n",
        "x['c_lead'].where(x['c_lead'] <= lead_lcap, lead_lcap) \n",
        "\n",
        "# Clean up copied df with capped values\n",
        "\n",
        "x=x.drop(cols,axis=1)\n",
        "\n",
        "xcols = ['c_price','c_seats','c_cum','c_lead']\n",
        "cols=['mean_net_ticket_price','num_seats_total', 'cumulative_sales','buy_lead_time']\n",
        "\n",
        "# Rename so existing code can easily be reused\n",
        "\n",
        "x=x.rename(columns=dict(list(zip(xcols,cols))))\n",
        "\n",
        "df=x.copy() \n",
        "df.head()"
      ],
      "id": "TWHpWkmeJHjq",
      "execution_count": null,
      "outputs": [
        {
          "output_type": "execute_result",
          "data": {
            "text/html": [
              "<div>\n",
              "<style scoped>\n",
              "    .dataframe tbody tr th:only-of-type {\n",
              "        vertical-align: middle;\n",
              "    }\n",
              "\n",
              "    .dataframe tbody tr th {\n",
              "        vertical-align: top;\n",
              "    }\n",
              "\n",
              "    .dataframe thead th {\n",
              "        text-align: right;\n",
              "    }\n",
              "</style>\n",
              "<table border=\"1\" class=\"dataframe\">\n",
              "  <thead>\n",
              "    <tr style=\"text-align: right;\">\n",
              "      <th></th>\n",
              "      <th>dept_date</th>\n",
              "      <th>purchase_date</th>\n",
              "      <th>train</th>\n",
              "      <th>isnormcabin</th>\n",
              "      <th>isreturn</th>\n",
              "      <th>isoneway</th>\n",
              "      <th>customer_cat</th>\n",
              "      <th>dept_daynum</th>\n",
              "      <th>dept_monthnum</th>\n",
              "      <th>train_capacity</th>\n",
              "      <th>mean_net_ticket_price</th>\n",
              "      <th>num_seats_total</th>\n",
              "      <th>cumulative_sales</th>\n",
              "      <th>buy_lead_time</th>\n",
              "    </tr>\n",
              "  </thead>\n",
              "  <tbody>\n",
              "    <tr>\n",
              "      <th>202522</th>\n",
              "      <td>2018-06-01</td>\n",
              "      <td>2018-06-01</td>\n",
              "      <td>A</td>\n",
              "      <td>0</td>\n",
              "      <td>0</td>\n",
              "      <td>0</td>\n",
              "      <td>A</td>\n",
              "      <td>5</td>\n",
              "      <td>6</td>\n",
              "      <td>6</td>\n",
              "      <td>418.084961</td>\n",
              "      <td>1.0</td>\n",
              "      <td>1.0</td>\n",
              "      <td>0.0</td>\n",
              "    </tr>\n",
              "    <tr>\n",
              "      <th>202514</th>\n",
              "      <td>2018-06-02</td>\n",
              "      <td>2018-06-01</td>\n",
              "      <td>A</td>\n",
              "      <td>0</td>\n",
              "      <td>0</td>\n",
              "      <td>0</td>\n",
              "      <td>B</td>\n",
              "      <td>6</td>\n",
              "      <td>6</td>\n",
              "      <td>9</td>\n",
              "      <td>464.041601</td>\n",
              "      <td>1.0</td>\n",
              "      <td>1.0</td>\n",
              "      <td>1.0</td>\n",
              "    </tr>\n",
              "    <tr>\n",
              "      <th>202492</th>\n",
              "      <td>2018-06-03</td>\n",
              "      <td>2018-06-01</td>\n",
              "      <td>A</td>\n",
              "      <td>0</td>\n",
              "      <td>0</td>\n",
              "      <td>0</td>\n",
              "      <td>A</td>\n",
              "      <td>7</td>\n",
              "      <td>6</td>\n",
              "      <td>11</td>\n",
              "      <td>513.468378</td>\n",
              "      <td>4.0</td>\n",
              "      <td>4.0</td>\n",
              "      <td>2.0</td>\n",
              "    </tr>\n",
              "    <tr>\n",
              "      <th>202495</th>\n",
              "      <td>2018-06-03</td>\n",
              "      <td>2018-06-02</td>\n",
              "      <td>A</td>\n",
              "      <td>0</td>\n",
              "      <td>0</td>\n",
              "      <td>0</td>\n",
              "      <td>A</td>\n",
              "      <td>7</td>\n",
              "      <td>6</td>\n",
              "      <td>11</td>\n",
              "      <td>513.468378</td>\n",
              "      <td>1.0</td>\n",
              "      <td>5.0</td>\n",
              "      <td>1.0</td>\n",
              "    </tr>\n",
              "    <tr>\n",
              "      <th>202505</th>\n",
              "      <td>2018-06-03</td>\n",
              "      <td>2018-06-03</td>\n",
              "      <td>A</td>\n",
              "      <td>0</td>\n",
              "      <td>0</td>\n",
              "      <td>1</td>\n",
              "      <td>B</td>\n",
              "      <td>7</td>\n",
              "      <td>6</td>\n",
              "      <td>11</td>\n",
              "      <td>513.468378</td>\n",
              "      <td>2.0</td>\n",
              "      <td>2.0</td>\n",
              "      <td>0.0</td>\n",
              "    </tr>\n",
              "  </tbody>\n",
              "</table>\n",
              "</div>"
            ],
            "text/plain": [
              "        dept_date purchase_date  ... cumulative_sales  buy_lead_time\n",
              "202522 2018-06-01    2018-06-01  ...              1.0            0.0\n",
              "202514 2018-06-02    2018-06-01  ...              1.0            1.0\n",
              "202492 2018-06-03    2018-06-01  ...              4.0            2.0\n",
              "202495 2018-06-03    2018-06-02  ...              5.0            1.0\n",
              "202505 2018-06-03    2018-06-03  ...              2.0            0.0\n",
              "\n",
              "[5 rows x 14 columns]"
            ]
          },
          "metadata": {},
          "execution_count": 11
        }
      ]
    },
    {
      "cell_type": "markdown",
      "metadata": {
        "id": "JMtqbrPgcNBt"
      },
      "source": [
        "### 4. FINAL DATATSET FOR REGRESSION <a id=\"section4\"></a>"
      ],
      "id": "JMtqbrPgcNBt"
    },
    {
      "cell_type": "code",
      "metadata": {
        "id": "M4fymp34cNBt",
        "scrolled": true,
        "colab": {
          "base_uri": "https://localhost:8080/",
          "height": 313
        },
        "outputId": "4acb008b-4c86-4ebb-cad4-66789a1370de"
      },
      "source": [
        "# Convert categorical to dummy variables\n",
        "# RS: Set drop_first = True to eliminate perfect multicollinearity\n",
        "df=pd.get_dummies(data=df, columns=['train', 'customer_cat','dept_daynum', 'dept_monthnum'], drop_first=True)\n",
        "df.head()"
      ],
      "id": "M4fymp34cNBt",
      "execution_count": null,
      "outputs": [
        {
          "output_type": "execute_result",
          "data": {
            "text/html": [
              "<div>\n",
              "<style scoped>\n",
              "    .dataframe tbody tr th:only-of-type {\n",
              "        vertical-align: middle;\n",
              "    }\n",
              "\n",
              "    .dataframe tbody tr th {\n",
              "        vertical-align: top;\n",
              "    }\n",
              "\n",
              "    .dataframe thead th {\n",
              "        text-align: right;\n",
              "    }\n",
              "</style>\n",
              "<table border=\"1\" class=\"dataframe\">\n",
              "  <thead>\n",
              "    <tr style=\"text-align: right;\">\n",
              "      <th></th>\n",
              "      <th>dept_date</th>\n",
              "      <th>purchase_date</th>\n",
              "      <th>isnormcabin</th>\n",
              "      <th>isreturn</th>\n",
              "      <th>isoneway</th>\n",
              "      <th>train_capacity</th>\n",
              "      <th>mean_net_ticket_price</th>\n",
              "      <th>num_seats_total</th>\n",
              "      <th>cumulative_sales</th>\n",
              "      <th>buy_lead_time</th>\n",
              "      <th>train_B</th>\n",
              "      <th>train_C</th>\n",
              "      <th>train_D</th>\n",
              "      <th>train_E</th>\n",
              "      <th>train_F</th>\n",
              "      <th>train_G</th>\n",
              "      <th>train_H</th>\n",
              "      <th>train_I</th>\n",
              "      <th>train_J</th>\n",
              "      <th>train_K</th>\n",
              "      <th>train_L</th>\n",
              "      <th>train_M</th>\n",
              "      <th>train_N</th>\n",
              "      <th>customer_cat_B</th>\n",
              "      <th>dept_daynum_2</th>\n",
              "      <th>dept_daynum_3</th>\n",
              "      <th>dept_daynum_4</th>\n",
              "      <th>dept_daynum_5</th>\n",
              "      <th>dept_daynum_6</th>\n",
              "      <th>dept_daynum_7</th>\n",
              "      <th>dept_monthnum_2</th>\n",
              "      <th>dept_monthnum_3</th>\n",
              "      <th>dept_monthnum_4</th>\n",
              "      <th>dept_monthnum_5</th>\n",
              "      <th>dept_monthnum_6</th>\n",
              "      <th>dept_monthnum_7</th>\n",
              "      <th>dept_monthnum_8</th>\n",
              "      <th>dept_monthnum_9</th>\n",
              "      <th>dept_monthnum_10</th>\n",
              "      <th>dept_monthnum_11</th>\n",
              "      <th>dept_monthnum_12</th>\n",
              "    </tr>\n",
              "  </thead>\n",
              "  <tbody>\n",
              "    <tr>\n",
              "      <th>202522</th>\n",
              "      <td>2018-06-01</td>\n",
              "      <td>2018-06-01</td>\n",
              "      <td>0</td>\n",
              "      <td>0</td>\n",
              "      <td>0</td>\n",
              "      <td>6</td>\n",
              "      <td>418.084961</td>\n",
              "      <td>1.0</td>\n",
              "      <td>1.0</td>\n",
              "      <td>0.0</td>\n",
              "      <td>0</td>\n",
              "      <td>0</td>\n",
              "      <td>0</td>\n",
              "      <td>0</td>\n",
              "      <td>0</td>\n",
              "      <td>0</td>\n",
              "      <td>0</td>\n",
              "      <td>0</td>\n",
              "      <td>0</td>\n",
              "      <td>0</td>\n",
              "      <td>0</td>\n",
              "      <td>0</td>\n",
              "      <td>0</td>\n",
              "      <td>0</td>\n",
              "      <td>0</td>\n",
              "      <td>0</td>\n",
              "      <td>0</td>\n",
              "      <td>1</td>\n",
              "      <td>0</td>\n",
              "      <td>0</td>\n",
              "      <td>0</td>\n",
              "      <td>0</td>\n",
              "      <td>0</td>\n",
              "      <td>0</td>\n",
              "      <td>1</td>\n",
              "      <td>0</td>\n",
              "      <td>0</td>\n",
              "      <td>0</td>\n",
              "      <td>0</td>\n",
              "      <td>0</td>\n",
              "      <td>0</td>\n",
              "    </tr>\n",
              "    <tr>\n",
              "      <th>202514</th>\n",
              "      <td>2018-06-02</td>\n",
              "      <td>2018-06-01</td>\n",
              "      <td>0</td>\n",
              "      <td>0</td>\n",
              "      <td>0</td>\n",
              "      <td>9</td>\n",
              "      <td>464.041601</td>\n",
              "      <td>1.0</td>\n",
              "      <td>1.0</td>\n",
              "      <td>1.0</td>\n",
              "      <td>0</td>\n",
              "      <td>0</td>\n",
              "      <td>0</td>\n",
              "      <td>0</td>\n",
              "      <td>0</td>\n",
              "      <td>0</td>\n",
              "      <td>0</td>\n",
              "      <td>0</td>\n",
              "      <td>0</td>\n",
              "      <td>0</td>\n",
              "      <td>0</td>\n",
              "      <td>0</td>\n",
              "      <td>0</td>\n",
              "      <td>1</td>\n",
              "      <td>0</td>\n",
              "      <td>0</td>\n",
              "      <td>0</td>\n",
              "      <td>0</td>\n",
              "      <td>1</td>\n",
              "      <td>0</td>\n",
              "      <td>0</td>\n",
              "      <td>0</td>\n",
              "      <td>0</td>\n",
              "      <td>0</td>\n",
              "      <td>1</td>\n",
              "      <td>0</td>\n",
              "      <td>0</td>\n",
              "      <td>0</td>\n",
              "      <td>0</td>\n",
              "      <td>0</td>\n",
              "      <td>0</td>\n",
              "    </tr>\n",
              "    <tr>\n",
              "      <th>202492</th>\n",
              "      <td>2018-06-03</td>\n",
              "      <td>2018-06-01</td>\n",
              "      <td>0</td>\n",
              "      <td>0</td>\n",
              "      <td>0</td>\n",
              "      <td>11</td>\n",
              "      <td>513.468378</td>\n",
              "      <td>4.0</td>\n",
              "      <td>4.0</td>\n",
              "      <td>2.0</td>\n",
              "      <td>0</td>\n",
              "      <td>0</td>\n",
              "      <td>0</td>\n",
              "      <td>0</td>\n",
              "      <td>0</td>\n",
              "      <td>0</td>\n",
              "      <td>0</td>\n",
              "      <td>0</td>\n",
              "      <td>0</td>\n",
              "      <td>0</td>\n",
              "      <td>0</td>\n",
              "      <td>0</td>\n",
              "      <td>0</td>\n",
              "      <td>0</td>\n",
              "      <td>0</td>\n",
              "      <td>0</td>\n",
              "      <td>0</td>\n",
              "      <td>0</td>\n",
              "      <td>0</td>\n",
              "      <td>1</td>\n",
              "      <td>0</td>\n",
              "      <td>0</td>\n",
              "      <td>0</td>\n",
              "      <td>0</td>\n",
              "      <td>1</td>\n",
              "      <td>0</td>\n",
              "      <td>0</td>\n",
              "      <td>0</td>\n",
              "      <td>0</td>\n",
              "      <td>0</td>\n",
              "      <td>0</td>\n",
              "    </tr>\n",
              "    <tr>\n",
              "      <th>202495</th>\n",
              "      <td>2018-06-03</td>\n",
              "      <td>2018-06-02</td>\n",
              "      <td>0</td>\n",
              "      <td>0</td>\n",
              "      <td>0</td>\n",
              "      <td>11</td>\n",
              "      <td>513.468378</td>\n",
              "      <td>1.0</td>\n",
              "      <td>5.0</td>\n",
              "      <td>1.0</td>\n",
              "      <td>0</td>\n",
              "      <td>0</td>\n",
              "      <td>0</td>\n",
              "      <td>0</td>\n",
              "      <td>0</td>\n",
              "      <td>0</td>\n",
              "      <td>0</td>\n",
              "      <td>0</td>\n",
              "      <td>0</td>\n",
              "      <td>0</td>\n",
              "      <td>0</td>\n",
              "      <td>0</td>\n",
              "      <td>0</td>\n",
              "      <td>0</td>\n",
              "      <td>0</td>\n",
              "      <td>0</td>\n",
              "      <td>0</td>\n",
              "      <td>0</td>\n",
              "      <td>0</td>\n",
              "      <td>1</td>\n",
              "      <td>0</td>\n",
              "      <td>0</td>\n",
              "      <td>0</td>\n",
              "      <td>0</td>\n",
              "      <td>1</td>\n",
              "      <td>0</td>\n",
              "      <td>0</td>\n",
              "      <td>0</td>\n",
              "      <td>0</td>\n",
              "      <td>0</td>\n",
              "      <td>0</td>\n",
              "    </tr>\n",
              "    <tr>\n",
              "      <th>202505</th>\n",
              "      <td>2018-06-03</td>\n",
              "      <td>2018-06-03</td>\n",
              "      <td>0</td>\n",
              "      <td>0</td>\n",
              "      <td>1</td>\n",
              "      <td>11</td>\n",
              "      <td>513.468378</td>\n",
              "      <td>2.0</td>\n",
              "      <td>2.0</td>\n",
              "      <td>0.0</td>\n",
              "      <td>0</td>\n",
              "      <td>0</td>\n",
              "      <td>0</td>\n",
              "      <td>0</td>\n",
              "      <td>0</td>\n",
              "      <td>0</td>\n",
              "      <td>0</td>\n",
              "      <td>0</td>\n",
              "      <td>0</td>\n",
              "      <td>0</td>\n",
              "      <td>0</td>\n",
              "      <td>0</td>\n",
              "      <td>0</td>\n",
              "      <td>1</td>\n",
              "      <td>0</td>\n",
              "      <td>0</td>\n",
              "      <td>0</td>\n",
              "      <td>0</td>\n",
              "      <td>0</td>\n",
              "      <td>1</td>\n",
              "      <td>0</td>\n",
              "      <td>0</td>\n",
              "      <td>0</td>\n",
              "      <td>0</td>\n",
              "      <td>1</td>\n",
              "      <td>0</td>\n",
              "      <td>0</td>\n",
              "      <td>0</td>\n",
              "      <td>0</td>\n",
              "      <td>0</td>\n",
              "      <td>0</td>\n",
              "    </tr>\n",
              "  </tbody>\n",
              "</table>\n",
              "</div>"
            ],
            "text/plain": [
              "        dept_date purchase_date  ...  dept_monthnum_11  dept_monthnum_12\n",
              "202522 2018-06-01    2018-06-01  ...                 0                 0\n",
              "202514 2018-06-02    2018-06-01  ...                 0                 0\n",
              "202492 2018-06-03    2018-06-01  ...                 0                 0\n",
              "202495 2018-06-03    2018-06-02  ...                 0                 0\n",
              "202505 2018-06-03    2018-06-03  ...                 0                 0\n",
              "\n",
              "[5 rows x 41 columns]"
            ]
          },
          "metadata": {},
          "execution_count": 12
        }
      ]
    },
    {
      "cell_type": "code",
      "metadata": {
        "id": "_qnWnYyecNBu",
        "scrolled": false,
        "colab": {
          "base_uri": "https://localhost:8080/"
        },
        "outputId": "33133f52-41c9-49dc-8177-da120a37cf85"
      },
      "source": [
        "df.columns.values"
      ],
      "id": "_qnWnYyecNBu",
      "execution_count": null,
      "outputs": [
        {
          "output_type": "execute_result",
          "data": {
            "text/plain": [
              "array(['dept_date', 'purchase_date', 'isnormcabin', 'isreturn',\n",
              "       'isoneway', 'train_capacity', 'mean_net_ticket_price',\n",
              "       'num_seats_total', 'cumulative_sales', 'buy_lead_time', 'train_B',\n",
              "       'train_C', 'train_D', 'train_E', 'train_F', 'train_G', 'train_H',\n",
              "       'train_I', 'train_J', 'train_K', 'train_L', 'train_M', 'train_N',\n",
              "       'customer_cat_B', 'dept_daynum_2', 'dept_daynum_3',\n",
              "       'dept_daynum_4', 'dept_daynum_5', 'dept_daynum_6', 'dept_daynum_7',\n",
              "       'dept_monthnum_2', 'dept_monthnum_3', 'dept_monthnum_4',\n",
              "       'dept_monthnum_5', 'dept_monthnum_6', 'dept_monthnum_7',\n",
              "       'dept_monthnum_8', 'dept_monthnum_9', 'dept_monthnum_10',\n",
              "       'dept_monthnum_11', 'dept_monthnum_12'], dtype=object)"
            ]
          },
          "metadata": {},
          "execution_count": 13
        }
      ]
    },
    {
      "cell_type": "markdown",
      "metadata": {
        "id": "kogjlaH_cNBv"
      },
      "source": [
        "### 5. Addressing Endogeneity of Price in Demand Model<a id=\"section5\"></a>"
      ],
      "id": "kogjlaH_cNBv"
    },
    {
      "cell_type": "markdown",
      "metadata": {
        "id": "YUnCAREMcNBv"
      },
      "source": [
        "#### 5a) Structural Model OLS<a id=\"section5a\"></a>"
      ],
      "id": "YUnCAREMcNBv"
    },
    {
      "cell_type": "markdown",
      "metadata": {
        "id": "F6r3QwLDJHjs"
      },
      "source": [
        "Structural Model: seats ~ price + train + customer_cat + day + month + isnormcabin + isoneway+ constant"
      ],
      "id": "F6r3QwLDJHjs"
    },
    {
      "cell_type": "code",
      "metadata": {
        "id": "1rXZnNclJHjs",
        "scrolled": true,
        "colab": {
          "base_uri": "https://localhost:8080/"
        },
        "outputId": "28638ce3-b3a7-4196-d153-96f32cdfe729"
      },
      "source": [
        "y = df['num_seats_total']\n",
        "x = df.drop(['num_seats_total', 'cumulative_sales', 'buy_lead_time', \n",
        "             'dept_date', 'purchase_date', 'isreturn', 'train_capacity'],axis=1)\n",
        "x = sm.add_constant(x)\n",
        "\n",
        "sm_ols = IV2SLS(y, x, None, None).fit(cov_type=\"unadjusted\")\n",
        "\n",
        "print(sm_ols)"
      ],
      "id": "1rXZnNclJHjs",
      "execution_count": null,
      "outputs": [
        {
          "output_type": "stream",
          "name": "stdout",
          "text": [
            "                            OLS Estimation Summary                            \n",
            "==============================================================================\n",
            "Dep. Variable:        num_seats_total   R-squared:                      0.1178\n",
            "Estimator:                        OLS   Adj. R-squared:                 0.1176\n",
            "No. Observations:              209696   F-statistic:                   2.8e+04\n",
            "Date:                Sun, Sep 26 2021   P-value (F-stat)                0.0000\n",
            "Time:                        13:25:12   Distribution:                 chi2(34)\n",
            "Cov. Estimator:            unadjusted                                         \n",
            "                                                                              \n",
            "                                   Parameter Estimates                                   \n",
            "=========================================================================================\n",
            "                       Parameter  Std. Err.     T-stat    P-value    Lower CI    Upper CI\n",
            "-----------------------------------------------------------------------------------------\n",
            "const                     1.7829     0.0240     74.255     0.0000      1.7359      1.8300\n",
            "isnormcabin               0.0139     0.0097     1.4311     0.1524     -0.0051      0.0330\n",
            "isoneway                 -0.1806     0.0098    -18.484     0.0000     -0.1997     -0.1614\n",
            "mean_net_ticket_price    -0.0014  3.747e-05    -36.232     0.0000     -0.0014     -0.0013\n",
            "train_B                   0.4662     0.0159     29.378     0.0000      0.4351      0.4973\n",
            "train_C                   0.1713     0.0179     9.5909     0.0000      0.1363      0.2063\n",
            "train_D                   0.0581     0.0182     3.1932     0.0014      0.0224      0.0937\n",
            "train_E                   0.4815     0.0159     30.241     0.0000      0.4503      0.5128\n",
            "train_F                   0.3286     0.0169     19.439     0.0000      0.2955      0.3618\n",
            "train_G                   0.3464     0.0163     21.308     0.0000      0.3146      0.3783\n",
            "train_H                   0.3521     0.0168     20.963     0.0000      0.3192      0.3850\n",
            "train_I                   0.1647     0.0170     9.6661     0.0000      0.1313      0.1981\n",
            "train_J                   0.0369     0.0182     2.0246     0.0429      0.0012      0.0727\n",
            "train_K                  -0.1038     0.0218    -4.7609     0.0000     -0.1466     -0.0611\n",
            "train_L                  -0.0126     0.0230    -0.5497     0.5825     -0.0576      0.0324\n",
            "train_M                  -0.2323     0.0198    -11.746     0.0000     -0.2711     -0.1936\n",
            "train_N                  -0.3698     0.0322    -11.493     0.0000     -0.4329     -0.3067\n",
            "customer_cat_B            0.6518     0.0089     73.491     0.0000      0.6345      0.6692\n",
            "dept_daynum_2            -0.0532     0.0120    -4.4326     0.0000     -0.0767     -0.0297\n",
            "dept_daynum_3            -0.0269     0.0119    -2.2711     0.0231     -0.0502     -0.0037\n",
            "dept_daynum_4            -0.0550     0.0119    -4.6335     0.0000     -0.0782     -0.0317\n",
            "dept_daynum_5            -0.0293     0.0117    -2.5004     0.0124     -0.0522     -0.0063\n",
            "dept_daynum_6            -0.0629     0.0122    -5.1415     0.0000     -0.0869     -0.0389\n",
            "dept_daynum_7            -0.0531     0.0118    -4.5102     0.0000     -0.0761     -0.0300\n",
            "dept_monthnum_2          -0.0626     0.0170    -3.6837     0.0002     -0.0959     -0.0293\n",
            "dept_monthnum_3           0.2051     0.0151     13.622     0.0000      0.1756      0.2347\n",
            "dept_monthnum_4           0.0445     0.0163     2.7300     0.0063      0.0126      0.0765\n",
            "dept_monthnum_5          -0.0347     0.0156    -2.2308     0.0257     -0.0652     -0.0042\n",
            "dept_monthnum_6           0.2308     0.0149     15.521     0.0000      0.2016      0.2599\n",
            "dept_monthnum_7          -0.1391     0.0153    -9.1176     0.0000     -0.1690     -0.1092\n",
            "dept_monthnum_8          -0.0718     0.0160    -4.4785     0.0000     -0.1032     -0.0404\n",
            "dept_monthnum_9          -0.1082     0.0156    -6.9309     0.0000     -0.1387     -0.0776\n",
            "dept_monthnum_10         -0.0707     0.0152    -4.6389     0.0000     -0.1005     -0.0408\n",
            "dept_monthnum_11          0.1728     0.0149     11.584     0.0000      0.1436      0.2021\n",
            "dept_monthnum_12          0.5833     0.0150     38.763     0.0000      0.5538      0.6128\n",
            "=========================================================================================\n"
          ]
        }
      ]
    },
    {
      "cell_type": "markdown",
      "metadata": {
        "id": "netFYDfwJHjs"
      },
      "source": [
        "#### 5b) Reduced Form of Price<a id=\"section5b\"></a>"
      ],
      "id": "netFYDfwJHjs"
    },
    {
      "cell_type": "markdown",
      "metadata": {
        "id": "hVK9je26JHjs"
      },
      "source": [
        "Reduced Form: price ~ (all structural) + isreturn + buy_lead_time\n"
      ],
      "id": "hVK9je26JHjs"
    },
    {
      "cell_type": "code",
      "metadata": {
        "id": "BVDSUuYsJHjs",
        "scrolled": true,
        "colab": {
          "base_uri": "https://localhost:8080/"
        },
        "outputId": "6295836a-d98a-4f31-9552-56e2cca415ef"
      },
      "source": [
        "y_price = df['mean_net_ticket_price']\n",
        "x_price = df.drop(['num_seats_total','cumulative_sales','dept_date', 'purchase_date',\n",
        "                   'train_capacity', 'mean_net_ticket_price'],axis=1)\n",
        "x_price = sm.add_constant(x_price)\n",
        "\n",
        "rf_ols = IV2SLS(y_price, x_price, None, None).fit(cov_type=\"unadjusted\")\n",
        "\n",
        "print(rf_ols)"
      ],
      "id": "BVDSUuYsJHjs",
      "execution_count": null,
      "outputs": [
        {
          "output_type": "stream",
          "name": "stdout",
          "text": [
            "                              OLS Estimation Summary                             \n",
            "=================================================================================\n",
            "Dep. Variable:     mean_net_ticket_price   R-squared:                      0.6705\n",
            "Estimator:                           OLS   Adj. R-squared:                 0.6704\n",
            "No. Observations:                 209696   F-statistic:                 4.266e+05\n",
            "Date:                   Sun, Sep 26 2021   P-value (F-stat)                0.0000\n",
            "Time:                           13:25:17   Distribution:                 chi2(35)\n",
            "Cov. Estimator:               unadjusted                                         \n",
            "                                                                                 \n",
            "                                Parameter Estimates                                 \n",
            "====================================================================================\n",
            "                  Parameter  Std. Err.     T-stat    P-value    Lower CI    Upper CI\n",
            "------------------------------------------------------------------------------------\n",
            "const                384.10     1.0424     368.48     0.0000      382.06      386.14\n",
            "isnormcabin         -145.76     0.4091    -356.32     0.0000     -146.56     -144.96\n",
            "isreturn            -9.5465     0.5463    -17.474     0.0000     -10.617     -8.4758\n",
            "isoneway             28.515     0.5240     54.418     0.0000      27.488      29.543\n",
            "buy_lead_time       -0.7000     0.0034    -203.35     0.0000     -0.7067     -0.6933\n",
            "train_B              11.841     0.9468     12.507     0.0000      9.9856      13.697\n",
            "train_C              38.505     1.0391     37.057     0.0000      36.468      40.541\n",
            "train_D              14.960     1.0556     14.172     0.0000      12.891      17.028\n",
            "train_E             -8.2318     0.8477    -9.7113     0.0000     -9.8932     -6.5704\n",
            "train_F              1.0772     0.9004     1.1963     0.2316     -0.6875      2.8419\n",
            "train_G              6.3927     0.9642     6.6302     0.0000      4.5030      8.2825\n",
            "train_H             -3.7856     0.8944    -4.2327     0.0000     -5.5386     -2.0327\n",
            "train_I              13.466     1.0015     13.446     0.0000      11.503      15.429\n",
            "train_J             -4.1865     0.9710    -4.3115     0.0000     -6.0897     -2.2834\n",
            "train_K              13.417     1.2307     10.902     0.0000      11.005      15.829\n",
            "train_L              28.835     1.2207     23.622     0.0000      26.443      31.228\n",
            "train_M             -9.7050     1.0528    -9.2185     0.0000     -11.768     -7.6416\n",
            "train_N              26.054     1.7520     14.871     0.0000      22.620      29.488\n",
            "customer_cat_B      -42.260     0.4654    -90.807     0.0000     -43.172     -41.348\n",
            "dept_daynum_2       -11.473     0.6386    -17.967     0.0000     -12.725     -10.222\n",
            "dept_daynum_3       -7.4290     0.6310    -11.773     0.0000     -8.6658     -6.1923\n",
            "dept_daynum_4       -6.0950     0.6311    -9.6577     0.0000     -7.3319     -4.8580\n",
            "dept_daynum_5        8.9381     0.6233     14.341     0.0000      7.7165      10.160\n",
            "dept_daynum_6        3.5730     0.6511     5.4878     0.0000      2.2969      4.8491\n",
            "dept_daynum_7        9.0392     0.6261     14.438     0.0000      7.8122      10.266\n",
            "dept_monthnum_2      1.5737     0.9042     1.7406     0.0818     -0.1984      3.3459\n",
            "dept_monthnum_3     -13.542     0.8019    -16.888     0.0000     -15.114     -11.971\n",
            "dept_monthnum_4     -2.7835     0.8687    -3.2041     0.0014     -4.4862     -1.0808\n",
            "dept_monthnum_5     -17.910     0.8299    -21.581     0.0000     -19.537     -16.284\n",
            "dept_monthnum_6      0.6365     0.7928     0.8028     0.4221     -0.9174      2.1904\n",
            "dept_monthnum_7     -20.214     0.8159    -24.777     0.0000     -21.814     -18.615\n",
            "dept_monthnum_8     -1.2399     0.8540    -1.4518     0.1466     -2.9137      0.4340\n",
            "dept_monthnum_9     -17.495     0.8314    -21.044     0.0000     -19.125     -15.866\n",
            "dept_monthnum_10    -10.503     0.8106    -12.957     0.0000     -12.091     -8.9139\n",
            "dept_monthnum_11     10.807     0.7942     13.607     0.0000      9.2501      12.363\n",
            "dept_monthnum_12     48.923     0.8066     60.655     0.0000      47.343      50.504\n",
            "====================================================================================\n"
          ]
        }
      ]
    },
    {
      "cell_type": "markdown",
      "metadata": {
        "id": "2LKDdZVdJHjt"
      },
      "source": [
        "#### 5c) 2SLS of Structual Model <a id=\"section5c\"></a>"
      ],
      "id": "2LKDdZVdJHjt"
    },
    {
      "cell_type": "code",
      "metadata": {
        "id": "KQigmGiOJHjt",
        "scrolled": true,
        "colab": {
          "base_uri": "https://localhost:8080/"
        },
        "outputId": "eb593432-02ee-4d3b-bc27-338427854f05"
      },
      "source": [
        "exo = df.drop(['num_seats_total', 'mean_net_ticket_price','cumulative_sales', 'buy_lead_time', \n",
        "             'dept_date', 'purchase_date', 'isreturn', 'train_capacity'],axis=1)\n",
        "\n",
        "exo = sm.add_constant(exo)\n",
        "\n",
        "endo = df[['mean_net_ticket_price']]\n",
        "\n",
        "iv = df[['isreturn','buy_lead_time']]\n",
        "\n",
        "sm_2sls = IV2SLS(y, exo, endo, iv).fit(\n",
        "    cov_type=\"unadjusted\"\n",
        ")\n",
        "\n",
        "print(sm_2sls)"
      ],
      "id": "KQigmGiOJHjt",
      "execution_count": null,
      "outputs": [
        {
          "output_type": "stream",
          "name": "stdout",
          "text": [
            "                          IV-2SLS Estimation Summary                          \n",
            "==============================================================================\n",
            "Dep. Variable:        num_seats_total   R-squared:                      0.0918\n",
            "Estimator:                    IV-2SLS   Adj. R-squared:                 0.0917\n",
            "No. Observations:              209696   F-statistic:                 2.805e+04\n",
            "Date:                Sun, Sep 26 2021   P-value (F-stat)                0.0000\n",
            "Time:                        13:25:21   Distribution:                 chi2(34)\n",
            "Cov. Estimator:            unadjusted                                         \n",
            "                                                                              \n",
            "                                   Parameter Estimates                                   \n",
            "=========================================================================================\n",
            "                       Parameter  Std. Err.     T-stat    P-value    Lower CI    Upper CI\n",
            "-----------------------------------------------------------------------------------------\n",
            "const                     2.8779     0.0399     72.061     0.0000      2.7997      2.9562\n",
            "isnormcabin              -0.4917     0.0176    -27.876     0.0000     -0.5262     -0.4571\n",
            "isoneway                 -0.0733     0.0104    -7.0556     0.0000     -0.0936     -0.0529\n",
            "train_B                   0.4355     0.0161     27.010     0.0000      0.4039      0.4672\n",
            "train_C                   0.2735     0.0184     14.900     0.0000      0.2375      0.3095\n",
            "train_D                   0.0609     0.0184     3.3016     0.0010      0.0247      0.0971\n",
            "train_E                   0.4347     0.0162     26.810     0.0000      0.4029      0.4664\n",
            "train_F                   0.3095     0.0172     18.033     0.0000      0.2758      0.3431\n",
            "train_G                   0.3172     0.0165     19.204     0.0000      0.2848      0.3496\n",
            "train_H                   0.3188     0.0171     18.676     0.0000      0.2853      0.3522\n",
            "train_I                   0.1563     0.0173     9.0389     0.0000      0.1224      0.1902\n",
            "train_J                   0.0290     0.0185     1.5670     0.1171     -0.0073      0.0653\n",
            "train_K                  -0.0762     0.0221    -3.4433     0.0006     -0.1196     -0.0328\n",
            "train_L                   0.0842     0.0235     3.5856     0.0003      0.0382      0.1302\n",
            "train_M                  -0.2485     0.0201    -12.379     0.0000     -0.2879     -0.2092\n",
            "train_N                  -0.2883     0.0327    -8.8089     0.0000     -0.3525     -0.2242\n",
            "customer_cat_B            0.4722     0.0104     45.443     0.0000      0.4518      0.4925\n",
            "dept_daynum_2            -0.0826     0.0122    -6.7646     0.0000     -0.1065     -0.0587\n",
            "dept_daynum_3            -0.0468     0.0120    -3.8825     0.0001     -0.0704     -0.0232\n",
            "dept_daynum_4            -0.0730     0.0120    -6.0647     0.0000     -0.0967     -0.0494\n",
            "dept_daynum_5            -0.0095     0.0119    -0.7960     0.4261     -0.0328      0.0138\n",
            "dept_daynum_6            -0.0608     0.0124    -4.8971     0.0000     -0.0851     -0.0364\n",
            "dept_daynum_7            -0.0342     0.0119    -2.8659     0.0042     -0.0577     -0.0108\n",
            "dept_monthnum_2          -0.0557     0.0172    -3.2295     0.0012     -0.0895     -0.0219\n",
            "dept_monthnum_3           0.1842     0.0153     12.044     0.0000      0.1542      0.2141\n",
            "dept_monthnum_4           0.0634     0.0166     3.8291     0.0001      0.0309      0.0958\n",
            "dept_monthnum_5          -0.0497     0.0158    -3.1508     0.0016     -0.0807     -0.0188\n",
            "dept_monthnum_6           0.2660     0.0151     17.589     0.0000      0.2363      0.2956\n",
            "dept_monthnum_7          -0.1492     0.0155    -9.6414     0.0000     -0.1796     -0.1189\n",
            "dept_monthnum_8          -0.0522     0.0163    -3.2069     0.0013     -0.0841     -0.0203\n",
            "dept_monthnum_9          -0.1331     0.0158    -8.3972     0.0000     -0.1641     -0.1020\n",
            "dept_monthnum_10         -0.0900     0.0155    -5.8208     0.0000     -0.1203     -0.0597\n",
            "dept_monthnum_11          0.1895     0.0151     12.516     0.0000      0.1599      0.2192\n",
            "dept_monthnum_12          0.6613     0.0154     42.848     0.0000      0.6310      0.6915\n",
            "mean_net_ticket_price    -0.0043  9.316e-05    -46.161     0.0000     -0.0045     -0.0041\n",
            "=========================================================================================\n",
            "\n",
            "Endogenous: mean_net_ticket_price\n",
            "Instruments: isreturn, buy_lead_time\n",
            "Unadjusted Covariance (Homoskedastic)\n",
            "Debiased: False\n"
          ]
        }
      ]
    },
    {
      "cell_type": "markdown",
      "metadata": {
        "id": "LcEM8jMFJHjt"
      },
      "source": [
        "#### 5d) Hausman Test for Endogeneity <a id=\"section5d\"></a>"
      ],
      "id": "LcEM8jMFJHjt"
    },
    {
      "cell_type": "markdown",
      "metadata": {
        "id": "DLKGaEcoJHjt"
      },
      "source": [
        "P-value ~ 0.00, hence reject H0 that endogenous variables are exogenous. This confirms that price is endogenous."
      ],
      "id": "DLKGaEcoJHjt"
    },
    {
      "cell_type": "code",
      "metadata": {
        "id": "LMT7_wuFJHjt",
        "scrolled": true,
        "colab": {
          "base_uri": "https://localhost:8080/"
        },
        "outputId": "d6430ed9-c791-4c2b-927a-5160a5b2e923"
      },
      "source": [
        "sm_2sls.wu_hausman()"
      ],
      "id": "LMT7_wuFJHjt",
      "execution_count": null,
      "outputs": [
        {
          "output_type": "execute_result",
          "data": {
            "text/plain": [
              "Wu-Hausman test of exogeneity\n",
              "H0: All endogenous variables are exogenous\n",
              "Statistic: 1239.5352\n",
              "P-value: 0.0000\n",
              "Distributed: F(1,209660)\n",
              "WaldTestStatistic, id: 0x7fe0d17abdd0"
            ]
          },
          "metadata": {},
          "execution_count": 17
        }
      ]
    },
    {
      "cell_type": "markdown",
      "metadata": {
        "id": "0nEQGle4JHjt"
      },
      "source": [
        "#### 5e) Sargan Test for Overidentification <a id=\"section5e\"></a>"
      ],
      "id": "0nEQGle4JHjt"
    },
    {
      "cell_type": "code",
      "metadata": {
        "id": "ofGsjPXhJHju",
        "scrolled": false,
        "colab": {
          "base_uri": "https://localhost:8080/"
        },
        "outputId": "ee564fc4-fd67-4cda-c57c-e9be2eca38a3"
      },
      "source": [
        "sm_2sls.wooldridge_overid"
      ],
      "id": "ofGsjPXhJHju",
      "execution_count": null,
      "outputs": [
        {
          "output_type": "execute_result",
          "data": {
            "text/plain": [
              "Wooldridge's score test of overidentification\n",
              "H0: Model is not overidentified.\n",
              "Statistic: 0.0167\n",
              "P-value: 0.8972\n",
              "Distributed: chi2(1)\n",
              "WaldTestStatistic, id: 0x7fe0cf66f190"
            ]
          },
          "metadata": {},
          "execution_count": 18
        }
      ]
    },
    {
      "cell_type": "markdown",
      "metadata": {
        "id": "5gpqDI55JHju"
      },
      "source": [
        "### 6) Final 2SLS Demand Model <a id=\"section6\"></a>"
      ],
      "id": "5gpqDI55JHju"
    },
    {
      "cell_type": "code",
      "metadata": {
        "id": "huBW61pkJHjv",
        "scrolled": true,
        "colab": {
          "base_uri": "https://localhost:8080/"
        },
        "outputId": "bfe54a94-465c-4bbd-cd15-e6a194576337"
      },
      "source": [
        "print(compare({\"OLS\": sm_ols, \"2SLS\": sm_2sls}))"
      ],
      "id": "huBW61pkJHjv",
      "execution_count": null,
      "outputs": [
        {
          "output_type": "stream",
          "name": "stdout",
          "text": [
            "                         Model Comparison                        \n",
            "=================================================================\n",
            "                                          OLS                2SLS\n",
            "-----------------------------------------------------------------\n",
            "Dep. Variable                 num_seats_total     num_seats_total\n",
            "Estimator                                 OLS             IV-2SLS\n",
            "No. Observations                       209696              209696\n",
            "Cov. Est.                          unadjusted          unadjusted\n",
            "R-squared                              0.1178              0.0918\n",
            "Adj. R-squared                         0.1176              0.0917\n",
            "F-statistic                           2.8e+04           2.805e+04\n",
            "P-value (F-stat)                       0.0000              0.0000\n",
            "=======================     =================   =================\n",
            "const                                  1.7829              2.8779\n",
            "                                     (74.255)            (72.061)\n",
            "isnormcabin                            0.0139             -0.4917\n",
            "                                     (1.4311)           (-27.876)\n",
            "isoneway                              -0.1806             -0.0733\n",
            "                                    (-18.484)           (-7.0556)\n",
            "mean_net_ticket_price                 -0.0014             -0.0043\n",
            "                                    (-36.232)           (-46.161)\n",
            "train_B                                0.4662              0.4355\n",
            "                                     (29.378)            (27.010)\n",
            "train_C                                0.1713              0.2735\n",
            "                                     (9.5909)            (14.900)\n",
            "train_D                                0.0581              0.0609\n",
            "                                     (3.1932)            (3.3016)\n",
            "train_E                                0.4815              0.4347\n",
            "                                     (30.241)            (26.810)\n",
            "train_F                                0.3286              0.3095\n",
            "                                     (19.439)            (18.033)\n",
            "train_G                                0.3464              0.3172\n",
            "                                     (21.308)            (19.204)\n",
            "train_H                                0.3521              0.3188\n",
            "                                     (20.963)            (18.676)\n",
            "train_I                                0.1647              0.1563\n",
            "                                     (9.6661)            (9.0389)\n",
            "train_J                                0.0369              0.0290\n",
            "                                     (2.0246)            (1.5670)\n",
            "train_K                               -0.1038             -0.0762\n",
            "                                    (-4.7609)           (-3.4433)\n",
            "train_L                               -0.0126              0.0842\n",
            "                                    (-0.5497)            (3.5856)\n",
            "train_M                               -0.2323             -0.2485\n",
            "                                    (-11.746)           (-12.379)\n",
            "train_N                               -0.3698             -0.2883\n",
            "                                    (-11.493)           (-8.8089)\n",
            "customer_cat_B                         0.6518              0.4722\n",
            "                                     (73.491)            (45.443)\n",
            "dept_daynum_2                         -0.0532             -0.0826\n",
            "                                    (-4.4326)           (-6.7646)\n",
            "dept_daynum_3                         -0.0269             -0.0468\n",
            "                                    (-2.2711)           (-3.8825)\n",
            "dept_daynum_4                         -0.0550             -0.0730\n",
            "                                    (-4.6335)           (-6.0647)\n",
            "dept_daynum_5                         -0.0293             -0.0095\n",
            "                                    (-2.5004)           (-0.7960)\n",
            "dept_daynum_6                         -0.0629             -0.0608\n",
            "                                    (-5.1415)           (-4.8971)\n",
            "dept_daynum_7                         -0.0531             -0.0342\n",
            "                                    (-4.5102)           (-2.8659)\n",
            "dept_monthnum_2                       -0.0626             -0.0557\n",
            "                                    (-3.6837)           (-3.2295)\n",
            "dept_monthnum_3                        0.2051              0.1842\n",
            "                                     (13.622)            (12.044)\n",
            "dept_monthnum_4                        0.0445              0.0634\n",
            "                                     (2.7300)            (3.8291)\n",
            "dept_monthnum_5                       -0.0347             -0.0497\n",
            "                                    (-2.2308)           (-3.1508)\n",
            "dept_monthnum_6                        0.2308              0.2660\n",
            "                                     (15.521)            (17.589)\n",
            "dept_monthnum_7                       -0.1391             -0.1492\n",
            "                                    (-9.1176)           (-9.6414)\n",
            "dept_monthnum_8                       -0.0718             -0.0522\n",
            "                                    (-4.4785)           (-3.2069)\n",
            "dept_monthnum_9                       -0.1082             -0.1331\n",
            "                                    (-6.9309)           (-8.3972)\n",
            "dept_monthnum_10                      -0.0707             -0.0900\n",
            "                                    (-4.6389)           (-5.8208)\n",
            "dept_monthnum_11                       0.1728              0.1895\n",
            "                                     (11.584)            (12.516)\n",
            "dept_monthnum_12                       0.5833              0.6613\n",
            "                                     (38.763)            (42.848)\n",
            "========================= =================== ===================\n",
            "Instruments                                              isreturn\n",
            "                                                    buy_lead_time\n",
            "-----------------------------------------------------------------\n",
            "\n",
            "T-stats reported in parentheses\n"
          ]
        }
      ]
    },
    {
      "cell_type": "code",
      "metadata": {
        "colab": {
          "base_uri": "https://localhost:8080/",
          "height": 584
        },
        "id": "aOB02ScpOqZ5",
        "outputId": "e24ad9c2-a405-435b-95a7-aa2a0289e619"
      },
      "source": [
        "#Plot residuals of final model\n",
        "\n",
        "plot_x = sm_2sls.predict()\n",
        "plot_y = sm_2sls.resids\n",
        "\n",
        "fig, ax1 = plt.subplots(figsize=(12, 9))\n",
        "plt.tick_params(labelsize=18)\n",
        "\n",
        "plt.xlabel(\"2SLS structural form fitted y (num_seats_total)\", fontsize=18)\n",
        "plt.ylabel(\"residuals\", fontsize=18)\n",
        "\n",
        "plt.scatter(plot_x, plot_y)\n",
        "\n",
        "print(\"Mean of residuals: \"+str(plot_y.mean()))"
      ],
      "id": "aOB02ScpOqZ5",
      "execution_count": null,
      "outputs": [
        {
          "output_type": "stream",
          "name": "stdout",
          "text": [
            "Mean of residuals: -1.5013501446349085e-14\n"
          ]
        },
        {
          "output_type": "display_data",
          "data": {
            "image/png": "[encoded data removed]",
            "text/plain": [
              "<Figure size 864x648 with 1 Axes>"
            ]
          },
          "metadata": {
            "needs_background": "light"
          }
        }
      ]
    }
  ]
}